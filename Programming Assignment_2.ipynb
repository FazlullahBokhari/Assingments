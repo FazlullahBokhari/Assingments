{
 "cells": [
  {
   "cell_type": "code",
   "execution_count": 1,
   "id": "91d84d33",
   "metadata": {},
   "outputs": [
    {
     "data": {
      "text/plain": [
       "'\\n1.\\tWrite a Python program to convert kilometers to miles?\\n2.\\tWrite a Python program to convert Celsius to Fahrenheit?\\n3.\\tWrite a Python program to display calendar?\\n4.\\tWrite a Python program to solve quadratic equation?\\n5.\\tWrite a Python program to swap two variables without temp variable?\\n\\n\\n'"
      ]
     },
     "execution_count": 1,
     "metadata": {},
     "output_type": "execute_result"
    }
   ],
   "source": [
    "'''\n",
    "1.\tWrite a Python program to convert kilometers to miles?\n",
    "2.\tWrite a Python program to convert Celsius to Fahrenheit?\n",
    "3.\tWrite a Python program to display calendar?\n",
    "4.\tWrite a Python program to solve quadratic equation?\n",
    "5.\tWrite a Python program to swap two variables without temp variable?\n",
    "\n",
    "\n",
    "'''"
   ]
  },
  {
   "cell_type": "code",
   "execution_count": 9,
   "id": "a58d0118",
   "metadata": {},
   "outputs": [
    {
     "name": "stdout",
     "output_type": "stream",
     "text": [
      "83  kilometer is =  51.573793  miles\n"
     ]
    }
   ],
   "source": [
    "# 1.\tWrite a Python program to convert kilometers to miles?\n",
    "\n",
    "def convertKiloToMile(data):\n",
    "    '''\n",
    "    convert kilometer to miles and return a float value\n",
    "    '''\n",
    "    return 0.621371*data\n",
    "\n",
    "def fun_call(data):\n",
    "    print(data,\" kilometer is = \",convertKiloToMile(data),\" miles\")\n",
    "fun_call(83)    "
   ]
  },
  {
   "cell_type": "code",
   "execution_count": 11,
   "id": "37422af7",
   "metadata": {},
   "outputs": [
    {
     "name": "stdout",
     "output_type": "stream",
     "text": [
      "103  Celsius is =  3481.4  Fahrenheit\n"
     ]
    }
   ],
   "source": [
    "# 2.\tWrite a Python program to convert Celsius to Fahrenheit?\n",
    "\n",
    "def converCelsiusToFahrenheit(data):\n",
    "    '''\n",
    "    convert Celsius to Fahrenheit and return a float value\n",
    "    '''\n",
    "    return 33.8*data\n",
    "\n",
    "def fun_call(data):\n",
    "    print(data,\" Celsius is = \",round(converCelsiusToFahrenheit(data),ndigits=2),\" Fahrenheit\")\n",
    "fun_call(103)    "
   ]
  },
  {
   "cell_type": "code",
   "execution_count": 20,
   "id": "aa307fcc",
   "metadata": {},
   "outputs": [
    {
     "name": "stdout",
     "output_type": "stream",
     "text": [
      "     March 2022\n",
      "Mo Tu We Th Fr Sa Su\n",
      "    1  2  3  4  5  6\n",
      " 7  8  9 10 11 12 13\n",
      "14 15 16 17 18 19 20\n",
      "21 22 23 24 25 26 27\n",
      "28 29 30 31\n",
      "\n"
     ]
    }
   ],
   "source": [
    "# 3.\tWrite a Python program to display calendar?\n",
    "import calendar\n",
    "\n",
    "def displayCalender(year,month):\n",
    "    '''\n",
    "    print the calender of a specific month and year as per user input\n",
    "    '''\n",
    "    print(calendar.month(year, month))\n",
    "    \n",
    "displayCalender(2022,3)    "
   ]
  },
  {
   "cell_type": "code",
   "execution_count": 29,
   "id": "afb575bd",
   "metadata": {},
   "outputs": [
    {
     "name": "stdout",
     "output_type": "stream",
     "text": [
      "Solution one is :  -1.5\n",
      "Solution two is :  -1.0\n"
     ]
    }
   ],
   "source": [
    "# 4.\tWrite a Python program to solve quadratic equation?\n",
    "\n",
    "def solveQuadEq(a,b,c):\n",
    "    '''\n",
    "    Taking three values a,b,and c\n",
    "    quadratic equation ax**2+bx+c=0\n",
    "    where a is coefficient of x**2 a!=0,\n",
    "    b is the coeffivient of x\n",
    "    and c is constant\n",
    "    and print the solutions\n",
    "    \n",
    "    '''\n",
    "    fisrt_value = (-b - (b ** 2 - 4 * a * c) ** 0.5) / (2 * a)\n",
    "    second_value = (-b + (b ** 2 - 4 * a * c) ** 0.5) / (2 * a)\n",
    "    \n",
    "    print(\"Solution one is : \", fisrt_value)\n",
    "    print(\"Solution two is : \",second_value)\n",
    "solveQuadEq(2,5,3)    "
   ]
  },
  {
   "cell_type": "code",
   "execution_count": 31,
   "id": "fd96a422",
   "metadata": {},
   "outputs": [
    {
     "name": "stdout",
     "output_type": "stream",
     "text": [
      "Before swapping :  10 1000\n",
      "After swapping :  1000 10\n"
     ]
    }
   ],
   "source": [
    "# 5.\tWrite a Python program to swap two variables without temp variable?\n",
    "\n",
    "def swap(a,b):\n",
    "    '''\n",
    "    this function will swap two variables without using any third variable\n",
    "    \n",
    "    '''\n",
    "    print(\"Before swapping : \",a,b)\n",
    "    \n",
    "    a, b = b, a\n",
    "    print(\"After swapping : \",a,b)\n",
    "swap(10,1000)    "
   ]
  },
  {
   "cell_type": "code",
   "execution_count": null,
   "id": "59b9324f",
   "metadata": {},
   "outputs": [],
   "source": []
  }
 ],
 "metadata": {
  "kernelspec": {
   "display_name": "Python 3",
   "language": "python",
   "name": "python3"
  },
  "language_info": {
   "codemirror_mode": {
    "name": "ipython",
    "version": 3
   },
   "file_extension": ".py",
   "mimetype": "text/x-python",
   "name": "python",
   "nbconvert_exporter": "python",
   "pygments_lexer": "ipython3",
   "version": "3.8.8"
  }
 },
 "nbformat": 4,
 "nbformat_minor": 5
}
