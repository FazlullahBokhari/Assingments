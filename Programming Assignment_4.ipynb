{
 "cells": [
  {
   "cell_type": "code",
   "execution_count": 1,
   "id": "746e1432",
   "metadata": {},
   "outputs": [
    {
     "data": {
      "text/plain": [
       "'\\n1.\\tWrite a Python Program to Find the Factorial of a Number?\\n2.\\tWrite a Python Program to Display the multiplication Table?\\n3.\\tWrite a Python Program to Print the Fibonacci sequence?\\n4.\\tWrite a Python Program to Check Armstrong Number?\\n5.\\tWrite a Python Program to Find Armstrong Number in an Interval?\\n6.\\tWrite a Python Program to Find the Sum of Natural Numbers?\\n\\n\\n'"
      ]
     },
     "execution_count": 1,
     "metadata": {},
     "output_type": "execute_result"
    }
   ],
   "source": [
    "'''\n",
    "1.\tWrite a Python Program to Find the Factorial of a Number?\n",
    "2.\tWrite a Python Program to Display the multiplication Table?\n",
    "3.\tWrite a Python Program to Print the Fibonacci sequence?\n",
    "4.\tWrite a Python Program to Check Armstrong Number?\n",
    "5.\tWrite a Python Program to Find Armstrong Number in an Interval?\n",
    "6.\tWrite a Python Program to Find the Sum of Natural Numbers?\n",
    "\n",
    "\n",
    "'''"
   ]
  },
  {
   "cell_type": "code",
   "execution_count": 6,
   "id": "e4417bf3",
   "metadata": {},
   "outputs": [
    {
     "name": "stdout",
     "output_type": "stream",
     "text": [
      "Enter a number : 10\n"
     ]
    },
    {
     "data": {
      "text/plain": [
       "3628800"
      ]
     },
     "execution_count": 6,
     "metadata": {},
     "output_type": "execute_result"
    }
   ],
   "source": [
    "# 1.\tWrite a Python Program to Find the Factorial of a Number?\n",
    "def get_fact(n):\n",
    "    '''\n",
    "    this function will return tha factorial of a number\n",
    "    factotial of N = N*(N-1)*(N-2)....\n",
    "    where 0! == 1 and 1! == 1\n",
    "    '''\n",
    "    if n in [0,1]:\n",
    "        return 1\n",
    "    return n*get_fact(n-1)\n",
    "\n",
    "n = int(input(\"Enter a number : \"))\n",
    "get_fact(n)"
   ]
  },
  {
   "cell_type": "code",
   "execution_count": 8,
   "id": "87459cd6",
   "metadata": {},
   "outputs": [
    {
     "name": "stdout",
     "output_type": "stream",
     "text": [
      "Enter a number : 19\n",
      "1  x  19  =  19\n",
      "2  x  19  =  38\n",
      "3  x  19  =  57\n",
      "4  x  19  =  76\n",
      "5  x  19  =  95\n",
      "6  x  19  =  114\n",
      "7  x  19  =  133\n",
      "8  x  19  =  152\n",
      "9  x  19  =  171\n",
      "10  x  19  =  190\n"
     ]
    }
   ],
   "source": [
    "# 2.\tWrite a Python Program to Display the multiplication Table?\n",
    "\n",
    "def print_table(n):\n",
    "    '''\n",
    "    This function will print tha table of the input number\n",
    "    '''\n",
    "    for i in range(1,11):\n",
    "        print(i,\" x \",n,\" = \",i*n)\n",
    "n = int(input(\"Enter a number : \"))\n",
    "print_table(n)"
   ]
  },
  {
   "cell_type": "code",
   "execution_count": 23,
   "id": "51f72db8",
   "metadata": {},
   "outputs": [
    {
     "data": {
      "text/plain": [
       "[0, 1, 1, 2, 3, 5, 8, 13, 21, 34]"
      ]
     },
     "execution_count": 23,
     "metadata": {},
     "output_type": "execute_result"
    }
   ],
   "source": [
    "# 3.\tWrite a Python Program to Print the Fibonacci sequence?\n",
    "def get_fibb(n):\n",
    "    if n==1:\n",
    "        return 0\n",
    "    if n==2:\n",
    "        return 1\n",
    "    return get_fibb(n-1)+get_fibb(n-2)\n",
    "    \n",
    "def print_fib_sequence(n):\n",
    "    list_fibonacci = []\n",
    "    for i in range(1,n+1):\n",
    "        fibb = get_fibb(i)\n",
    "        list_fibonacci.append(fibb)\n",
    "    return list_fibonacci    \n",
    "print_fib_sequence(10)"
   ]
  },
  {
   "cell_type": "code",
   "execution_count": 24,
   "id": "e13d370a",
   "metadata": {},
   "outputs": [
    {
     "name": "stdout",
     "output_type": "stream",
     "text": [
      "Fibonacci sequence:\n"
     ]
    },
    {
     "data": {
      "text/plain": [
       "[0, 1, 1, 2, 3, 5, 8, 13, 21, 34]"
      ]
     },
     "execution_count": 24,
     "metadata": {},
     "output_type": "execute_result"
    }
   ],
   "source": [
    "# 3.\tWrite a Python Program to Print the Fibonacci sequence?\n",
    "def print_fib_sequence(n):\n",
    "    list_fibonacci = []\n",
    "    n1, n2 = 0, 1\n",
    "    count = 0\n",
    "    if n <= 0:\n",
    "        print(\"Please enter a positive integer\")\n",
    "    elif n == n1:\n",
    "       print(\"Fibonacci sequence upto\",n,\":\")\n",
    "       list_fibonacci.append(n1)\n",
    "    # generate fibonacci sequence\n",
    "    else:\n",
    "       print(\"Fibonacci sequence:\")\n",
    "       while count < n:\n",
    "           list_fibonacci.append(n1)\n",
    "           nth = n1 + n2\n",
    "       # update values\n",
    "           n1 = n2\n",
    "           n2 = nth\n",
    "           count += 1\n",
    "    return list_fibonacci   \n",
    "print_fib_sequence(10)"
   ]
  },
  {
   "cell_type": "code",
   "execution_count": 80,
   "id": "0e73bf7b",
   "metadata": {},
   "outputs": [
    {
     "data": {
      "text/plain": [
       "True"
      ]
     },
     "execution_count": 80,
     "metadata": {},
     "output_type": "execute_result"
    }
   ],
   "source": [
    "# 4.\tWrite a Python Program to Check Armstrong Number?\n",
    "def check_armstrong(n):\n",
    "    '''\n",
    "    this function will return boolean value True or False\n",
    "    after varifying the number is armstrong or not\n",
    "    \n",
    "    Armstrong number is a number that is equal to the sum of cubes of its digits.\n",
    "    For example 0, 1, 153, 370, 371 and 407 are the Armstrong numbers.\n",
    "    '''\n",
    "    power = len(str(n))\n",
    "    number = n\n",
    "    r_cube = 0\n",
    "    while n>0:\n",
    "        r = n%10\n",
    "        n = n//10\n",
    "        r_cube = r_cube + r**power\n",
    "    \n",
    "    if r_cube == number:\n",
    "        return True\n",
    "    return False\n",
    "\n",
    "check_armstrong(1634)"
   ]
  },
  {
   "cell_type": "code",
   "execution_count": 82,
   "id": "9d61ca9a",
   "metadata": {},
   "outputs": [
    {
     "data": {
      "text/plain": [
       "[153, 370, 371, 407, 1634, 8208, 9474]"
      ]
     },
     "execution_count": 82,
     "metadata": {},
     "output_type": "execute_result"
    }
   ],
   "source": [
    "# 5.\tWrite a Python Program to Find Armstrong Number in an Interval?\n",
    "def get_armstrong(start,end):\n",
    "    '''\n",
    "    this function will return the list of armstrong between the interval\n",
    "\n",
    "    '''\n",
    "    list_armstrong = []\n",
    "    for i in range(start,end+1):\n",
    "        power = len(str(i))\n",
    "        r_cube = 0\n",
    "        number = i\n",
    "        j = i\n",
    "        while j>0:\n",
    "            r = j%10\n",
    "            j = j//10\n",
    "            r_cube = r_cube + r**power\n",
    "        if r_cube == number:\n",
    "            list_armstrong.append(number)\n",
    "    return list_armstrong  \n",
    "\n",
    "get_armstrong(100,50000)"
   ]
  },
  {
   "cell_type": "code",
   "execution_count": 76,
   "id": "0e6bc6f6",
   "metadata": {},
   "outputs": [
    {
     "data": {
      "text/plain": [
       "136"
      ]
     },
     "execution_count": 76,
     "metadata": {},
     "output_type": "execute_result"
    }
   ],
   "source": [
    "# 6.\tWrite a Python Program to Find the Sum of Natural Numbers?\n",
    "def get_sum(n):\n",
    "    '''\n",
    "    return sum of natural numbers\n",
    "    '''\n",
    "    sum_till_number = 0\n",
    "    while n>0:\n",
    "        sum_till_number = sum_till_number + n\n",
    "        n = n - 1\n",
    "    return sum_till_number\n",
    "\n",
    "get_sum(16)"
   ]
  },
  {
   "cell_type": "code",
   "execution_count": null,
   "id": "2c703b15",
   "metadata": {},
   "outputs": [],
   "source": []
  },
  {
   "cell_type": "code",
   "execution_count": null,
   "id": "a6cc8189",
   "metadata": {},
   "outputs": [],
   "source": []
  }
 ],
 "metadata": {
  "kernelspec": {
   "display_name": "Python 3",
   "language": "python",
   "name": "python3"
  },
  "language_info": {
   "codemirror_mode": {
    "name": "ipython",
    "version": 3
   },
   "file_extension": ".py",
   "mimetype": "text/x-python",
   "name": "python",
   "nbconvert_exporter": "python",
   "pygments_lexer": "ipython3",
   "version": "3.8.8"
  }
 },
 "nbformat": 4,
 "nbformat_minor": 5
}
