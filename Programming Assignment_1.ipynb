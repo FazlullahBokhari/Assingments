{
 "cells": [
  {
   "cell_type": "raw",
   "id": "072e1af1",
   "metadata": {},
   "source": [
    "1.\tWrite a Python program to print \"Hello Python\"?\n",
    "2.\tWrite a Python program to do arithmetical operations addition and division.?\n",
    "3.\tWrite a Python program to find the area of a triangle?\n",
    "4.\tWrite a Python program to swap two variables?\n",
    "5.\tWrite a Python program to generate a random number?\n"
   ]
  },
  {
   "cell_type": "code",
   "execution_count": 1,
   "id": "e9e39a58",
   "metadata": {},
   "outputs": [
    {
     "name": "stdout",
     "output_type": "stream",
     "text": [
      "Hello Python\n"
     ]
    }
   ],
   "source": [
    "# 1.Write a Python program to print \"Hello Python\"?\n",
    "print(\"Hello Python\")"
   ]
  },
  {
   "cell_type": "code",
   "execution_count": 16,
   "id": "f47ae292",
   "metadata": {},
   "outputs": [
    {
     "name": "stdout",
     "output_type": "stream",
     "text": [
      "addition of 2  and  3  is : 5\n",
      "division of 2  and  3  is : 0.67\n"
     ]
    }
   ],
   "source": [
    "# 2.Write a Python program to do arithmetical operations addition and division.?\n",
    "def add(a,b):\n",
    "    return a+b\n",
    "\n",
    "def div(a,b):\n",
    "    return a/b\n",
    "\n",
    "def fun_call(a,b):\n",
    "    print('addition of', a,' and ', b,' is :',add(a,b))\n",
    "    print('division of', a,' and ', b,' is :',round(div(a,b),ndigits=2))\n",
    "fun_call(2,3)    "
   ]
  },
  {
   "cell_type": "code",
   "execution_count": 17,
   "id": "7a97cb05",
   "metadata": {},
   "outputs": [
    {
     "name": "stdout",
     "output_type": "stream",
     "text": [
      "Area of the triangle with radius  5  is : 78.5\n"
     ]
    }
   ],
   "source": [
    "# 3.Write a Python program to find the area of a triangle?\n",
    "def areaOfTriangle(radius):\n",
    "    return 3.14*radius**2\n",
    "\n",
    "def fun_call(radius):\n",
    "    print('Area of the triangle with radius ',radius,' is :',areaOfTriangle(radius))\n",
    "    \n",
    "fun_call(5)    "
   ]
  },
  {
   "cell_type": "code",
   "execution_count": 19,
   "id": "bcc33359",
   "metadata": {},
   "outputs": [
    {
     "name": "stdout",
     "output_type": "stream",
     "text": [
      "Before swapping :  10 1000\n",
      "After swapping :  1000 10\n"
     ]
    }
   ],
   "source": [
    "# 4.Write a Python program to swap two variables?\n",
    "def swap(first,second):\n",
    "    print(\"Before swapping : \", first,second)\n",
    "    temp = first\n",
    "    first = second\n",
    "    second = temp\n",
    "    print(\"After swapping : \",first,second)\n",
    "swap(10,1000)    "
   ]
  },
  {
   "cell_type": "code",
   "execution_count": null,
   "id": "ce05278a",
   "metadata": {},
   "outputs": [],
   "source": [
    "import random as r\n",
    "# 5.Write a Python program to generate a random number?\n",
    "def genrate_random_no():\n",
    "    random_number = r.ra"
   ]
  }
 ],
 "metadata": {
  "kernelspec": {
   "display_name": "Python 3",
   "language": "python",
   "name": "python3"
  },
  "language_info": {
   "codemirror_mode": {
    "name": "ipython",
    "version": 3
   },
   "file_extension": ".py",
   "mimetype": "text/x-python",
   "name": "python",
   "nbconvert_exporter": "python",
   "pygments_lexer": "ipython3",
   "version": "3.8.8"
  }
 },
 "nbformat": 4,
 "nbformat_minor": 5
}
