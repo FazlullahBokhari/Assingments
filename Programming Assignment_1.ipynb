{
 "cells": [
  {
   "cell_type": "code",
   "execution_count": 23,
   "id": "eb67f45e",
   "metadata": {},
   "outputs": [
    {
     "data": {
      "text/plain": [
       "'1.\\tWrite a Python program to print \"Hello Python\"?\\n2.\\tWrite a Python program to do arithmetical operations addition and division.?\\n3.\\tWrite a Python program to find the area of a triangle?\\n4.\\tWrite a Python program to swap two variables?\\n5.\\tWrite a Python program to generate a random number?\\n'"
      ]
     },
     "execution_count": 23,
     "metadata": {},
     "output_type": "execute_result"
    }
   ],
   "source": [
    "'''1.\tWrite a Python program to print \"Hello Python\"?\n",
    "2.\tWrite a Python program to do arithmetical operations addition and division.?\n",
    "3.\tWrite a Python program to find the area of a triangle?\n",
    "4.\tWrite a Python program to swap two variables?\n",
    "5.\tWrite a Python program to generate a random number?\n",
    "'''"
   ]
  },
  {
   "cell_type": "code",
   "execution_count": 24,
   "id": "ac237eec",
   "metadata": {},
   "outputs": [
    {
     "name": "stdout",
     "output_type": "stream",
     "text": [
      "Hello Python\n"
     ]
    }
   ],
   "source": [
    "# 1.Write a Python program to print \"Hello Python\"?\n",
    "print(\"Hello Python\")"
   ]
  },
  {
   "cell_type": "code",
   "execution_count": 25,
   "id": "3cee0d46",
   "metadata": {},
   "outputs": [
    {
     "name": "stdout",
     "output_type": "stream",
     "text": [
      "addition of 2  and  3  is : 5\n",
      "division of 2  and  3  is : 0.67\n"
     ]
    }
   ],
   "source": [
    "# 2.Write a Python program to do arithmetical operations addition and division.?\n",
    "def add(a,b):\n",
    "    return a+b\n",
    "\n",
    "def div(a,b):\n",
    "    return a/b\n",
    "\n",
    "def fun_call(a,b):\n",
    "    print('addition of', a,' and ', b,' is :',add(a,b))\n",
    "    print('division of', a,' and ', b,' is :',round(div(a,b),ndigits=2))\n",
    "fun_call(2,3)    "
   ]
  },
  {
   "cell_type": "code",
   "execution_count": 26,
   "id": "6a509a60",
   "metadata": {},
   "outputs": [
    {
     "name": "stdout",
     "output_type": "stream",
     "text": [
      "Area of the triangle with radius  5  is : 78.5\n"
     ]
    }
   ],
   "source": [
    "# 3.Write a Python program to find the area of a triangle?\n",
    "def areaOfTriangle(radius):\n",
    "    return 3.14*radius**2\n",
    "\n",
    "def fun_call(radius):\n",
    "    print('Area of the triangle with radius ',radius,' is :',areaOfTriangle(radius))\n",
    "    \n",
    "fun_call(5)    "
   ]
  },
  {
   "cell_type": "code",
   "execution_count": 27,
   "id": "5f1d4040",
   "metadata": {},
   "outputs": [
    {
     "name": "stdout",
     "output_type": "stream",
     "text": [
      "Before swapping :  10 1000\n",
      "After swapping :  1000 10\n"
     ]
    }
   ],
   "source": [
    "# 4.Write a Python program to swap two variables?\n",
    "def swap(first,second):\n",
    "    print(\"Before swapping : \", first,second)\n",
    "    temp = first\n",
    "    first = second\n",
    "    second = temp\n",
    "    print(\"After swapping : \",first,second)\n",
    "swap(10,1000)    "
   ]
  },
  {
   "cell_type": "code",
   "execution_count": 28,
   "id": "d1c1e803",
   "metadata": {},
   "outputs": [
    {
     "data": {
      "text/plain": [
       "4"
      ]
     },
     "execution_count": 28,
     "metadata": {},
     "output_type": "execute_result"
    }
   ],
   "source": [
    "import random as r\n",
    "# 5.Write a Python program to generate a random number?\n",
    "def genrate_random_no():\n",
    "    random_number = r.randint(0,10)\n",
    "    return random_number\n",
    "\n",
    "genrate_random_no()"
   ]
  },
  {
   "cell_type": "code",
   "execution_count": null,
   "id": "d292067d",
   "metadata": {},
   "outputs": [],
   "source": []
  }
 ],
 "metadata": {
  "kernelspec": {
   "display_name": "Python 3",
   "language": "python",
   "name": "python3"
  },
  "language_info": {
   "codemirror_mode": {
    "name": "ipython",
    "version": 3
   },
   "file_extension": ".py",
   "mimetype": "text/x-python",
   "name": "python",
   "nbconvert_exporter": "python",
   "pygments_lexer": "ipython3",
   "version": "3.8.8"
  }
 },
 "nbformat": 4,
 "nbformat_minor": 5
}
