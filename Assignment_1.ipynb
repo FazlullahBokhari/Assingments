{
 "cells": [
  {
   "cell_type": "raw",
   "id": "3107e1ab",
   "metadata": {},
   "source": [
    "1. In the below elements which of them are values or an expression? eg:- values can be integer or string and expressions will be mathematical operators.\n",
    "* \n",
    "'hello'\n",
    "-87.8\n",
    "- \n",
    "/ \n",
    "+\t\n",
    "6 "
   ]
  },
  {
   "cell_type": "code",
   "execution_count": 55,
   "id": "eaeab626",
   "metadata": {},
   "outputs": [
    {
     "name": "stdout",
     "output_type": "stream",
     "text": [
      "Values are:  hello, -87.8 , and,  6\n",
      "Expressions are : *, -, /, +\n"
     ]
    }
   ],
   "source": [
    "print(\"Values are: \",'hello,',-87.8,\", and, \",6)\n",
    "print(\"Expressions are :\", \"*, -, /, +\")"
   ]
  },
  {
   "cell_type": "raw",
   "id": "88e06345",
   "metadata": {},
   "source": [
    "2. What is the difference between string and variable?"
   ]
  },
  {
   "cell_type": "code",
   "execution_count": 56,
   "id": "04e2b92a",
   "metadata": {},
   "outputs": [
    {
     "name": "stdout",
     "output_type": "stream",
     "text": [
      "String is defined as the values(like an integer, a float, or a character or word or sentences etc) inside \n",
      "      double quote or single quote values\n",
      "      for exmple  --> 'Faiz' and \"87.8\"\n",
      "\n",
      "A character or a word that store some value called variable\n",
      "        for example ---> a = 85\n",
      "        here a is \"a\" variable and \"85\" is a value store by \"a\"\n"
     ]
    }
   ],
   "source": [
    "print('''String is defined as the values(like an integer, a float, or a character or word or sentences etc) inside \n",
    "      double quote or single quote values\n",
    "      for exmple ''',\"--> 'Faiz' and\",'\"87.8\"')\n",
    "print()\n",
    "print('''A character or a word that store some value called variable\n",
    "        for example ---> a = 85\n",
    "        here a is \"a\" variable and \"85\" is a value store by \"a\"''')"
   ]
  },
  {
   "cell_type": "raw",
   "id": "77bb6182",
   "metadata": {},
   "source": [
    "3. Describe three different data types."
   ]
  },
  {
   "cell_type": "code",
   "execution_count": 57,
   "id": "5b38030b",
   "metadata": {},
   "outputs": [
    {
     "name": "stdout",
     "output_type": "stream",
     "text": [
      "1.Tuple: Tuple is a primitive or built-in data type in python \n",
      "                we can create a tuple with the help of round bracket \"()\" or by built-in function \"tuple()\"\n",
      "                it is immutable in nature that means we can not change the value once created but \n",
      "                we can itrate the value of tuple as it is itrable in nature \n",
      "for example:\n",
      "<class 'tuple'>\n",
      "<class 'list'>\n",
      "<class 'tuple'>\n",
      "\n",
      " 2.Dictionary: It is a also primitive data type in python \n",
      "            we can create a dictionary with the help of curly bracket \"{}\" or by built-in function \"dict()\"\n",
      "            dictionary store values in \"key\" and \"pair\" wise where key can not be duplicate or must be unique but \n",
      "            values can be duplicate, as it is mutable in nature so we can add or remove or change values as we as keys\n",
      "            from the existing one \n",
      "for example: \n",
      "<class 'dict'>\n",
      "{'name': 'faiz', 'email': 'fazlullahb@gmail.com'}\n",
      "{'name': 'sudh', 'email': 'fazlullahb@gmail.com'}\n",
      "\n",
      "3. Set: It is a also primitive data type in python \n",
      "            we can create a set data type with the help of curly bracket \"{}\" or by built-in function \"set()\"\n",
      "            set will not allow duplicate value and the indexing of values will not be preserved here\n",
      "for example: \n",
      "<class 'set'>\n",
      "{1, 2, 3, 4, 5, 6, 7}\n",
      "<class 'set'>\n",
      "{1, 2, 3, 5, 7, 8, 9}\n"
     ]
    }
   ],
   "source": [
    "print('''1.Tuple: Tuple is a primitive or built-in data type in python \n",
    "                we can create a tuple with the help of round bracket \"()\" or by built-in function \"tuple()\"\n",
    "                it is immutable in nature that means we can not change the value once created but \n",
    "                we can itrate the value of tuple as it is itrable in nature \n",
    "for example:''')\n",
    "t = (1,2,3)\n",
    "print(type(t))\n",
    "t1 = [7,8,9,2]\n",
    "print(type(t1))\n",
    "t2 = tuple(t1)\n",
    "print(type(t2))\n",
    "print()\n",
    "print(''' 2.Dictionary: It is a also primitive data type in python \n",
    "            we can create a dictionary with the help of curly bracket \"{}\" or by built-in function \"dict()\"\n",
    "            dictionary store values in \"key\" and \"pair\" wise where key can not be duplicate or must be unique but \n",
    "            values can be duplicate, as it is mutable in nature so we can add or remove or change values as we as keys\n",
    "            from the existing one \n",
    "for example: ''')\n",
    "d = {'name':\"faiz\",\"email\":\"fazlullahb@gmail.com\"}\n",
    "print(type(d))\n",
    "print(d)\n",
    "d[\"name\"] = \"sudh\"\n",
    "print(d)\n",
    "print()\n",
    "print('''3. Set: It is a also primitive data type in python \n",
    "            we can create a set data type with the help of curly bracket \"{}\" or by built-in function \"set()\"\n",
    "            set will not allow duplicate value and the indexing of values will not be preserved here\n",
    "for example: ''')\n",
    "s = {1,2,3,4,5,6,6,7,7}\n",
    "print(type(s))\n",
    "print(s)\n",
    "l = [1,7,8,9,5,2,3,5]\n",
    "s1 = set(l)\n",
    "print(type(s1))\n",
    "print(s1)"
   ]
  },
  {
   "cell_type": "raw",
   "id": "2699dc3a",
   "metadata": {},
   "source": [
    "4. What is an expression made up of? What do all expressions do?"
   ]
  },
  {
   "cell_type": "code",
   "execution_count": 50,
   "id": "5542a77b",
   "metadata": {},
   "outputs": [
    {
     "name": "stdout",
     "output_type": "stream",
     "text": [
      "An expression is made up of the combinations of values and operators and \n",
      "        it will reduce the values in a single value \n",
      "for example: \"5*8/9+4-6\" to 2.4444444444444446\n",
      "\n",
      "2.4444444444444446\n"
     ]
    }
   ],
   "source": [
    "print('''An expression is made up of the combinations of values and mathematical operators and \n",
    "        it will reduce the values in a single value \n",
    "for example: \"5*8/9+4-6\" to 2.4444444444444446''')\n",
    "print()\n",
    "print(5*8/9+4-6)"
   ]
  },
  {
   "cell_type": "raw",
   "id": "5cfd3cb5",
   "metadata": {},
   "source": [
    "5. This assignment statements, like spam = 10. What is the difference between an expression and a statement?"
   ]
  },
  {
   "cell_type": "code",
   "execution_count": 51,
   "id": "d53702bd",
   "metadata": {},
   "outputs": [
    {
     "name": "stdout",
     "output_type": "stream",
     "text": [
      "An expression actually evalute the value where as assignment store the value \n"
     ]
    }
   ],
   "source": [
    "print('''An expression actually evalute the value where as assignment store the value ''')"
   ]
  },
  {
   "cell_type": "raw",
   "id": "548ea4d4",
   "metadata": {},
   "source": [
    "6. After running the following code, what does the variable bacon contain?\n",
    "bacon = 22\n",
    "bacon + 1\n"
   ]
  },
  {
   "cell_type": "code",
   "execution_count": 52,
   "id": "fe005736",
   "metadata": {},
   "outputs": [
    {
     "name": "stdout",
     "output_type": "stream",
     "text": [
      "ANswer : 22\n",
      "22\n"
     ]
    }
   ],
   "source": [
    "print(\"ANswer : 22\")\n",
    "bacon = 22\n",
    "bacon + 1\n",
    "print(bacon)"
   ]
  },
  {
   "cell_type": "raw",
   "id": "7bebc470",
   "metadata": {},
   "source": [
    "7. What should the values of the following two terms be?\n",
    "'spam' + 'spamspam'\n",
    "'spam' * 3"
   ]
  },
  {
   "cell_type": "code",
   "execution_count": 53,
   "id": "aa3475df",
   "metadata": {},
   "outputs": [
    {
     "name": "stdout",
     "output_type": "stream",
     "text": [
      "'spam' + 'spamspam': it will concatinate both the string like \"spamapamapam\" \n",
      "\n",
      "        'spam' * 3: it will repeate the sting 3 time like spamspamspam\n",
      "        \n",
      "        \n",
      "spamspamspam\n",
      "\n",
      "spamspamspam\n"
     ]
    }
   ],
   "source": [
    "print(''''spam' + 'spamspam': it will concatinate both the string like \"spamapamapam\" \n",
    "\n",
    "        'spam' * 3: it will repeate the sting 3 time like spamspamspam\n",
    "        \n",
    "        ''')\n",
    "\n",
    "print('spam' + 'spamspam')\n",
    "print()\n",
    "print('spam'*3)"
   ]
  },
  {
   "cell_type": "raw",
   "id": "32121657",
   "metadata": {},
   "source": [
    "8. Why is eggs a valid variable name while 100 is invalid?"
   ]
  },
  {
   "cell_type": "code",
   "execution_count": 54,
   "id": "73f619cd",
   "metadata": {},
   "outputs": [
    {
     "name": "stdout",
     "output_type": "stream",
     "text": [
      "Because \"eggs\" is a word and \"100\" is a numerical value \n",
      "            and in python we can not start a varible name with numerical value  \n"
     ]
    }
   ],
   "source": [
    "print('''Because \"eggs\" is a word and \"100\" is a numerical value \n",
    "            and in python we can not start a varible name with numerical value  ''')"
   ]
  },
  {
   "cell_type": "code",
   "execution_count": null,
   "id": "2493ed4b",
   "metadata": {},
   "outputs": [],
   "source": []
  }
 ],
 "metadata": {
  "kernelspec": {
   "display_name": "Python 3",
   "language": "python",
   "name": "python3"
  },
  "language_info": {
   "codemirror_mode": {
    "name": "ipython",
    "version": 3
   },
   "file_extension": ".py",
   "mimetype": "text/x-python",
   "name": "python",
   "nbconvert_exporter": "python",
   "pygments_lexer": "ipython3",
   "version": "3.8.8"
  }
 },
 "nbformat": 4,
 "nbformat_minor": 5
}
