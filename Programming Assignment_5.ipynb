{
 "cells": [
  {
   "cell_type": "code",
   "execution_count": 64,
   "id": "e10f5ff0",
   "metadata": {},
   "outputs": [
    {
     "data": {
      "text/plain": [
       "'\\n1.\\tWrite a Python Program to Find LCM?\\n2.\\tWrite a Python Program to Find HCF?\\n3.\\tWrite a Python Program to Convert Decimal to Binary, Octal and Hexadecimal?\\n4.\\tWrite a Python Program To Find ASCII value of a character?\\n5.\\tWrite a Python Program to Make a Simple Calculator with 4 basic mathematical operations?\\n\\n'"
      ]
     },
     "execution_count": 64,
     "metadata": {},
     "output_type": "execute_result"
    }
   ],
   "source": [
    "'''\n",
    "1.\tWrite a Python Program to Find LCM?\n",
    "2.\tWrite a Python Program to Find HCF?\n",
    "3.\tWrite a Python Program to Convert Decimal to Binary, Octal and Hexadecimal?\n",
    "4.\tWrite a Python Program To Find ASCII value of a character?\n",
    "5.\tWrite a Python Program to Make a Simple Calculator with 4 basic mathematical operations?\n",
    "\n",
    "'''"
   ]
  },
  {
   "cell_type": "code",
   "execution_count": 65,
   "id": "b7bba621",
   "metadata": {},
   "outputs": [
    {
     "data": {
      "text/plain": [
       "95760"
      ]
     },
     "execution_count": 65,
     "metadata": {},
     "output_type": "execute_result"
    }
   ],
   "source": [
    "# 1.\tWrite a Python Program to Find LCM?\n",
    "def getLCM(n1,n2):\n",
    "    LCM = 0\n",
    "    if n1>n2:\n",
    "        max_value = n1\n",
    "    else:\n",
    "        max_value = n2\n",
    "    while True:\n",
    "        if max_value%n1 == 0 and max_value%n2 == 0:\n",
    "            LCM = max_value\n",
    "            break\n",
    "        max_value += 1\n",
    "    return max_value    \n",
    "\n",
    "getLCM(1710,112)"
   ]
  },
  {
   "cell_type": "code",
   "execution_count": 66,
   "id": "85fd8964",
   "metadata": {},
   "outputs": [
    {
     "data": {
      "text/plain": [
       "2"
      ]
     },
     "execution_count": 66,
     "metadata": {},
     "output_type": "execute_result"
    }
   ],
   "source": [
    "# 2.\tWrite a Python Program to Find HCF?\n",
    "\n",
    "def getHCF(n1,n2):\n",
    "    if n1%n2 == 0:\n",
    "        return n2\n",
    "    return getHCF(n2,n1%n2)\n",
    "getHCF(10,82)    "
   ]
  },
  {
   "cell_type": "code",
   "execution_count": 67,
   "id": "68704d3c",
   "metadata": {},
   "outputs": [
    {
     "name": "stdout",
     "output_type": "stream",
     "text": [
      "0b101001010\n",
      "0o512\n",
      "330\n",
      "octal number from function:  0o512\n",
      "decimal number from function 330\n",
      "0x14a\n"
     ]
    }
   ],
   "source": [
    "# 3.\tWrite a Python Program to Convert Decimal to Binary, Octal and Hexadecimal?\n",
    "\n",
    "def getBinary(n):\n",
    "    return bin(n)\n",
    "\n",
    "def getOctal(n):\n",
    "    return oct(n)\n",
    "\n",
    "def getDecimalFromOctal(n):\n",
    "    return int(n[2:],8)\n",
    "def getHexdecimal(n):\n",
    "    oct_num = getOctal(n)\n",
    "    print(\"octal number from function: \",oct_num)\n",
    "    decimal = getDecimalFromOctal(oct_num)\n",
    "    print(\"decimal number from function\",decimal)\n",
    "    return hex(decimal)\n",
    "\n",
    "number = 330\n",
    "binary = getBinary(number)\n",
    "print(binary)\n",
    "octal = getOctal(number)\n",
    "print(octal)\n",
    "decimal = getDecimalFromOctal(octal)\n",
    "print(decimal)\n",
    "hexa = getHexdecimal(number)\n",
    "print(hexa)"
   ]
  },
  {
   "cell_type": "code",
   "execution_count": 68,
   "id": "d10fcb05",
   "metadata": {},
   "outputs": [
    {
     "data": {
      "text/plain": [
       "1101"
      ]
     },
     "execution_count": 68,
     "metadata": {},
     "output_type": "execute_result"
    }
   ],
   "source": [
    "# 3.\tWrite a Python Program to Convert Decimal to Binary.\n",
    "def convertDecimalToBinary(n):\n",
    "    binary = ''\n",
    "    while n>0:\n",
    "        new_n = n//2\n",
    "        r = n%2\n",
    "        n = new_n\n",
    "        binary += str(r)\n",
    "    binary = binary[::-1]  \n",
    "    return int(binary)\n",
    "convertDecimalToBinary(13)"
   ]
  },
  {
   "cell_type": "code",
   "execution_count": 69,
   "id": "c2f6f0ba",
   "metadata": {},
   "outputs": [
    {
     "data": {
      "text/plain": [
       "39"
      ]
     },
     "execution_count": 69,
     "metadata": {},
     "output_type": "execute_result"
    }
   ],
   "source": [
    "# 3.\tWrite a Python Program to Convert Octal and Hexadecimal?\n",
    "def getDecimalOfOctal(n):\n",
    "    \n",
    "    n_value = n\n",
    "    decimal = 0\n",
    "    temp = n_value\n",
    "    base = 1\n",
    "    \n",
    "    while temp:\n",
    "        r = temp%10\n",
    "        temp = temp//10\n",
    "        \n",
    "        decimal = decimal + r*base\n",
    "        base = base * 8\n",
    "    return decimal\n",
    "\n",
    "n = 47\n",
    "getDecimalOfOctal(n)"
   ]
  },
  {
   "cell_type": "code",
   "execution_count": 70,
   "id": "20f7d83a",
   "metadata": {},
   "outputs": [
    {
     "name": "stdout",
     "output_type": "stream",
     "text": [
      "157\n"
     ]
    },
    {
     "data": {
      "text/plain": [
       "931"
      ]
     },
     "execution_count": 70,
     "metadata": {},
     "output_type": "execute_result"
    }
   ],
   "source": [
    "def convertOctalToHeaxdecimal(n):\n",
    "    hexadecimal = ''\n",
    "    while n>0:\n",
    "        new_n = n//16\n",
    "        r = n%16\n",
    "        n = new_n\n",
    "        hexadecimal += str(r)\n",
    "    hexadecimal = hexadecimal[::-1]  \n",
    "    return int(hexadecimal)\n",
    "\n",
    "n = 235\n",
    "decimal = getDecimalOfOctal(n)\n",
    "print(decimal)\n",
    "convertOctalToHeaxdecimal(decimal)"
   ]
  },
  {
   "cell_type": "code",
   "execution_count": 71,
   "id": "8cdc65d1",
   "metadata": {},
   "outputs": [
    {
     "data": {
      "text/plain": [
       "71"
      ]
     },
     "execution_count": 71,
     "metadata": {},
     "output_type": "execute_result"
    }
   ],
   "source": [
    "# 4.\tWrite a Python Program To Find ASCII value of a character?\n",
    "def getASCII(word):\n",
    "    return ord(word)\n",
    "\n",
    "word = 'G'\n",
    "getASCII(word)"
   ]
  },
  {
   "cell_type": "code",
   "execution_count": 72,
   "id": "47f5126a",
   "metadata": {},
   "outputs": [
    {
     "name": "stdout",
     "output_type": "stream",
     "text": [
      "15\n",
      "-5\n",
      "50\n",
      "0.5\n"
     ]
    }
   ],
   "source": [
    "# 5.\tWrite a Python Program to Make a Simple Calculator with 4 basic mathematical operations?\n",
    "class Calculator:\n",
    "    \n",
    "    def __init__(self,a,b):\n",
    "        self.a = a\n",
    "        self.b = b   \n",
    "        \n",
    "    def add(self):\n",
    "        return self.a+self.b\n",
    "    \n",
    "    def sub(self):\n",
    "        return self.a-self.b\n",
    "    \n",
    "    def mul(self):\n",
    "        return self.a*self.b\n",
    "    \n",
    "    def div(self):\n",
    "        return self.a/self.b\n",
    "\n",
    "    \n",
    "cal = Calculator(5,10)\n",
    "addition = cal.add()\n",
    "print(addition)\n",
    "substraction = cal.sub()\n",
    "print(substraction)\n",
    "multiplication = cal.mul()\n",
    "print(multiplication)\n",
    "division = cal.div()\n",
    "print(division)"
   ]
  },
  {
   "cell_type": "code",
   "execution_count": null,
   "id": "867bc505",
   "metadata": {},
   "outputs": [],
   "source": []
  }
 ],
 "metadata": {
  "kernelspec": {
   "display_name": "Python 3",
   "language": "python",
   "name": "python3"
  },
  "language_info": {
   "codemirror_mode": {
    "name": "ipython",
    "version": 3
   },
   "file_extension": ".py",
   "mimetype": "text/x-python",
   "name": "python",
   "nbconvert_exporter": "python",
   "pygments_lexer": "ipython3",
   "version": "3.8.8"
  }
 },
 "nbformat": 4,
 "nbformat_minor": 5
}
