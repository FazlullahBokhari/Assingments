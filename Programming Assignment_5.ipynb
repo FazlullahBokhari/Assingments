{
 "cells": [
  {
   "cell_type": "code",
   "execution_count": 1,
   "id": "e10f5ff0",
   "metadata": {},
   "outputs": [
    {
     "data": {
      "text/plain": [
       "'\\n1.\\tWrite a Python Program to Find LCM?\\n2.\\tWrite a Python Program to Find HCF?\\n3.\\tWrite a Python Program to Convert Decimal to Binary, Octal and Hexadecimal?\\n4.\\tWrite a Python Program To Find ASCII value of a character?\\n5.\\tWrite a Python Program to Make a Simple Calculator with 4 basic mathematical operations?\\n\\n'"
      ]
     },
     "execution_count": 1,
     "metadata": {},
     "output_type": "execute_result"
    }
   ],
   "source": [
    "'''\n",
    "1.\tWrite a Python Program to Find LCM?\n",
    "2.\tWrite a Python Program to Find HCF?\n",
    "3.\tWrite a Python Program to Convert Decimal to Binary, Octal and Hexadecimal?\n",
    "4.\tWrite a Python Program To Find ASCII value of a character?\n",
    "5.\tWrite a Python Program to Make a Simple Calculator with 4 basic mathematical operations?\n",
    "\n",
    "'''"
   ]
  },
  {
   "cell_type": "code",
   "execution_count": 16,
   "id": "b7bba621",
   "metadata": {},
   "outputs": [
    {
     "data": {
      "text/plain": [
       "95760"
      ]
     },
     "execution_count": 16,
     "metadata": {},
     "output_type": "execute_result"
    }
   ],
   "source": [
    "# 1.\tWrite a Python Program to Find LCM?\n",
    "def getLCM(n1,n2):\n",
    "    LCM = 0\n",
    "    if n1>n2:\n",
    "        max_value = n1\n",
    "    else:\n",
    "        max_value = n2\n",
    "    while True:\n",
    "        if max_value%n1 == 0 and max_value%n2 == 0:\n",
    "            LCM = max_value\n",
    "            break\n",
    "        max_value += 1\n",
    "    return max_value    \n",
    "\n",
    "getLCM(1710,112)"
   ]
  },
  {
   "cell_type": "code",
   "execution_count": 25,
   "id": "85fd8964",
   "metadata": {},
   "outputs": [
    {
     "data": {
      "text/plain": [
       "2"
      ]
     },
     "execution_count": 25,
     "metadata": {},
     "output_type": "execute_result"
    }
   ],
   "source": [
    "# 2.\tWrite a Python Program to Find HCF?\n",
    "\n",
    "def getHCF(n1,n2):\n",
    "    if n1%n2 == 0:\n",
    "        return n2\n",
    "    return getHCF(n2,n1%n2)\n",
    "getHCF(10,82)    "
   ]
  },
  {
   "cell_type": "code",
   "execution_count": 37,
   "id": "d10fcb05",
   "metadata": {},
   "outputs": [
    {
     "data": {
      "text/plain": [
       "1101"
      ]
     },
     "execution_count": 37,
     "metadata": {},
     "output_type": "execute_result"
    }
   ],
   "source": [
    "# 3.\tWrite a Python Program to Convert Decimal to Binary.\n",
    "def convertDecimalToBinary(n):\n",
    "    binary = ''\n",
    "    while n>0:\n",
    "        new_n = n//2\n",
    "        r = n%2\n",
    "        n = new_n\n",
    "        binary += str(r)\n",
    "    binary = binary[::-1]  \n",
    "    return int(binary)\n",
    "convertDecimalToBinary(13)"
   ]
  },
  {
   "cell_type": "code",
   "execution_count": null,
   "id": "c2f6f0ba",
   "metadata": {},
   "outputs": [],
   "source": [
    "# # 3.\tWrite a Python Program to Convert Octal and Hexadecimal?\n",
    "def convertOctalToHexadecimal(n):\n",
    "    "
   ]
  }
 ],
 "metadata": {
  "kernelspec": {
   "display_name": "Python 3",
   "language": "python",
   "name": "python3"
  },
  "language_info": {
   "codemirror_mode": {
    "name": "ipython",
    "version": 3
   },
   "file_extension": ".py",
   "mimetype": "text/x-python",
   "name": "python",
   "nbconvert_exporter": "python",
   "pygments_lexer": "ipython3",
   "version": "3.8.8"
  }
 },
 "nbformat": 4,
 "nbformat_minor": 5
}
